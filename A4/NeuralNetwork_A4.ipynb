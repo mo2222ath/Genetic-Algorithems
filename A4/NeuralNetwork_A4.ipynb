{
  "nbformat": 4,
  "nbformat_minor": 0,
  "metadata": {
    "colab": {
      "name": "NeuralNetwork_A4.ipynb",
      "provenance": [],
      "collapsed_sections": []
    },
    "kernelspec": {
      "name": "python3",
      "display_name": "Python 3"
    }
  },
  "cells": [
    {
      "cell_type": "markdown",
      "metadata": {
        "id": "Epg-Ha1ufasc"
      },
      "source": [
        "**Libraries needed:**"
      ]
    },
    {
      "cell_type": "code",
      "metadata": {
        "id": "Z7jGSISKjJCw"
      },
      "source": [
        "import numpy as np\r\n",
        "import pandas as pd\r\n",
        "import random\r\n",
        "from pprint import pprint\r\n",
        "import matplotlib.pyplot as plt\r\n"
      ],
      "execution_count": 108,
      "outputs": []
    },
    {
      "cell_type": "markdown",
      "metadata": {
        "id": "kI6ulRNgfLVn"
      },
      "source": [
        "**Neural Network Class:**"
      ]
    },
    {
      "cell_type": "code",
      "metadata": {
        "id": "qRdPnsp63_sh"
      },
      "source": [
        "class NeuralNetwork:\r\n",
        "\r\n",
        "  def train_test_split(self,df, size):\r\n",
        "      \r\n",
        "      if isinstance(size, float):\r\n",
        "          size = round(size * len(df))\r\n",
        "\r\n",
        "      indices = df.index.tolist()\r\n",
        "      train_indices = random.sample(population=indices, k=size)\r\n",
        "\r\n",
        "      x = df.drop(8 , axis=1)\r\n",
        "      y = df[8]\r\n",
        "\r\n",
        "      train_x , train_y = x.loc[train_indices] , y.loc[train_indices]\r\n",
        "      test_x , test_y = x.drop(train_indices) , y.drop(train_indices)\r\n",
        "      train_x , train_y = np.array(train_x) , np.array(train_y)\r\n",
        "      test_x , test_y = np.array(test_x) , np.array(test_y)\r\n",
        "      return train_x , train_y , test_x , test_y\r\n",
        "\r\n",
        "  def sigmoid(self,x):\r\n",
        "      return 1 / (1 + np.exp(-x))\r\n",
        "\r\n",
        "  def mean_squared_error(self,predictions, labels):\r\n",
        "      N = labels.size\r\n",
        "      mse = (((predictions - labels))**2).sum() / (2*N)\r\n",
        "      return mse\r\n",
        "\r\n",
        "  def fit(self,x,y,weights_1,weights_2,epochs ,learning_rate):\r\n",
        "    monitoring = {\"mean_squared_error\": []}\r\n",
        "    N = y.size\r\n",
        "    for epoch in range(epochs):\r\n",
        "        # feedforward\r\n",
        "        #(412,10)                    (412, 8) (8, 10)\r\n",
        "        hidden_layer = self.sigmoid(np.dot(x, weights_1))\r\n",
        "        #(412,1)                      (412,10)     (10, 1)\r\n",
        "        output_layer = self.sigmoid(np.dot(hidden_layer, weights_2))\r\n",
        "        \r\n",
        "        # monitor training process\r\n",
        "        mse = self.mean_squared_error(output_layer, y)\r\n",
        "        monitoring[\"mean_squared_error\"].append(mse)\r\n",
        "    \r\n",
        "      \r\n",
        "        # backpropagation\r\n",
        "        #(412,1 )                           (412,1)-(412, 1)     (1,412)             (412,1)\r\n",
        "        output_layer_delta = np.dot(np.dot((output_layer - y) , output_layer.T ) , (1 - output_layer))\r\n",
        "        # print(\"output_layer_delta.shape\" , output_layer_delta.shape)\r\n",
        "        #(412,10)                                   (412,1)      (1, 10)              (10,412)              (412,10)\r\n",
        "        hidden_layer_delta = np.dot(np.dot(output_layer_delta, weights_2.T) , np.dot(hidden_layer.T , (1 - hidden_layer)))\r\n",
        "\r\n",
        "\r\n",
        "        # weight updates\r\n",
        "        #(10, 1)                            (10,412)           (412,1)\r\n",
        "        weights_2 -= learning_rate * np.dot(hidden_layer.T, output_layer_delta)\r\n",
        "        #(8,10)                              (8,412)      (412,10)\r\n",
        "        weights_1 -= learning_rate * np.dot(x.T, hidden_layer_delta)\r\n",
        "\r\n",
        "    monitoring_df = pd.DataFrame(monitoring)\r\n",
        "    return monitoring_df\r\n",
        "    \r\n"
      ],
      "execution_count": 109,
      "outputs": []
    },
    {
      "cell_type": "markdown",
      "metadata": {
        "id": "FF1kLlqDfBk8"
      },
      "source": [
        "**Main:**\r\n"
      ]
    },
    {
      "cell_type": "code",
      "metadata": {
        "colab": {
          "base_uri": "https://localhost:8080/"
        },
        "id": "Ht2yA5XskCSy",
        "outputId": "4b8f80f7-f5e7-47b2-9aff-f18e8d469fc8"
      },
      "source": [
        "fin = open(\"data.txt\", \"rt\")\r\n",
        "fout = open(\"out.txt\", \"wt\")\r\n",
        "\r\n",
        "# fWeights = open(\"weights.txt\", \"wt\")\r\n",
        "# fout.write()\r\n",
        "\r\n",
        "\r\n",
        "lines = fin.readlines()\r\n",
        "parameters = lines[0].split()\r\n",
        "\r\n",
        "n_input = int (parameters[0]) + 1 \r\n",
        "n_hidden = int (parameters[1])\r\n",
        "# n_hidden = 3\r\n",
        "n_output = int (parameters[2])\r\n",
        "N = int (lines[1])\r\n",
        "# learning_rate = 0.001\r\n",
        "# epochs = 500\r\n",
        "# print(N)\r\n",
        "\r\n",
        "for i in range(2,len(lines)):\r\n",
        "\tfout.write(','.join(lines[i].split()) + \"\\n\")\r\n",
        " \r\n",
        "fin.close()\r\n",
        "fout.close()\r\n",
        "\r\n",
        "df = pd.read_csv(\"out.txt\" , header=None)\r\n",
        "# print(df.head())\r\n",
        "# df.shape\r\n",
        "# scalling  \r\n",
        "df = (df - df.mean()) / df.std()\r\n",
        "ones = [1] * N\r\n",
        "# print(ones)\r\n",
        "df.insert(0,\"Ones\" , ones)\r\n",
        "\r\n",
        "print(df.head())\r\n",
        "model = NeuralNetwork()\r\n",
        "\r\n",
        "\r\n",
        "train_x , train_y , test_x , test_y = model.train_test_split(df, 0.8)\r\n",
        "train_y = train_y.reshape((-1,1))\r\n",
        "test_y = test_y.reshape((-1,1))\r\n"
      ],
      "execution_count": 110,
      "outputs": [
        {
          "output_type": "stream",
          "text": [
            "   Ones         0         1         2  ...         5         6         7         8\n",
            "0     1  0.282847  1.516818 -0.900717  ... -0.162034 -1.810328 -0.697529 -1.334156\n",
            "1     1  0.189397 -0.837624  0.578876  ... -0.294232  1.057367 -0.697529 -0.794231\n",
            "2     1  0.203998 -0.837624  0.917820  ...  0.574680 -0.270921  0.141639  0.983660\n",
            "3     1  2.178130 -0.837624 -0.900717  ...  1.886389 -2.036527 -0.729196 -1.426084\n",
            "4     1 -1.696151  0.932546 -0.900717  ... -1.168277  2.097881 -0.697529 -1.920658\n",
            "\n",
            "[5 rows x 10 columns]\n"
          ],
          "name": "stdout"
        }
      ]
    },
    {
      "cell_type": "markdown",
      "metadata": {
        "id": "fir9qoeAfpC1"
      },
      "source": [
        "**Fit training data:**"
      ]
    },
    {
      "cell_type": "code",
      "metadata": {
        "colab": {
          "base_uri": "https://localhost:8080/"
        },
        "id": "huiDB7EZDDlI",
        "outputId": "e140359e-b0a2-46d6-a08c-a04b5f74f451"
      },
      "source": [
        "# print(\"weights_1 before fit:\\n \", weights_1 )\r\n",
        "# print(\"weights_2 before fit:\\n \", weights_2 )\r\n",
        "\r\n",
        "np.random.seed(5)\r\n",
        "weights_1 = np.random.normal(scale=0.5, size=(n_input, n_hidden))\r\n",
        "weights_2 = np.random.normal(scale=0.5, size=(n_hidden, n_output))\r\n",
        "\r\n",
        "\r\n",
        "monitoring_df = model.fit(train_x , train_y , weights_1 , weights_2 , epochs = 500 , learning_rate = 0.0001 )\r\n",
        "\r\n",
        "# print(\"weights_1 after fit:\\n \", weights_1 )\r\n",
        "# print(\"weights_2 after fit:\\n \", weights_2 )"
      ],
      "execution_count": 117,
      "outputs": [
        {
          "output_type": "stream",
          "text": [
            "/usr/local/lib/python3.6/dist-packages/ipykernel_launcher.py:21: RuntimeWarning: overflow encountered in exp\n"
          ],
          "name": "stderr"
        }
      ]
    },
    {
      "cell_type": "code",
      "metadata": {
        "colab": {
          "base_uri": "https://localhost:8080/",
          "height": 462
        },
        "id": "xH8CXywRkNnX",
        "outputId": "8436ebcf-a949-4bac-cb13-61c0eb74edff"
      },
      "source": [
        "fig, axes = plt.subplots(figsize=(7,7))\r\n",
        "monitoring_df.mean_squared_error.plot(title=\"Mean Squared Error\")"
      ],
      "execution_count": 118,
      "outputs": [
        {
          "output_type": "execute_result",
          "data": {
            "text/plain": [
              "<matplotlib.axes._subplots.AxesSubplot at 0x7faadc1fdfd0>"
            ]
          },
          "metadata": {
            "tags": []
          },
          "execution_count": 118
        },
        {
          "output_type": "display_data",
          "data": {
            "image/png": "[encoded data removed]",
            "text/plain": [
              "<Figure size 504x504 with 1 Axes>"
            ]
          },
          "metadata": {
            "tags": [],
            "needs_background": "light"
          }
        }
      ]
    },
    {
      "cell_type": "markdown",
      "metadata": {
        "id": "CwRAkvGif16m"
      },
      "source": [
        "**Function to predicte new data with updated weights:**"
      ]
    },
    {
      "cell_type": "code",
      "metadata": {
        "id": "_1ogKVzklBWp"
      },
      "source": [
        "def prediction(test_data ,weights_h, weights_o):\r\n",
        "  # feedforward\r\n",
        "  #(412,10)                     (412, 8) (8, 10)\r\n",
        "  hidden_layer = model.sigmoid(np.dot(test_data, weights_h))\r\n",
        "  #(412,1)                      (412,10)     (10, 1)\r\n",
        "  output_layer = model.sigmoid(np.dot(hidden_layer, weights_o))\r\n",
        "  return output_layer"
      ],
      "execution_count": 119,
      "outputs": []
    },
    {
      "cell_type": "markdown",
      "metadata": {
        "id": "7gQB9rNygJ_D"
      },
      "source": [
        "**Save weights to file:**"
      ]
    },
    {
      "cell_type": "code",
      "metadata": {
        "id": "w8mmciwbNnZw"
      },
      "source": [
        "np.savetxt(\"weights_1.txt\" , weights_1, delimiter=\",\")\r\n",
        "np.savetxt(\"weights_2.txt\" , weights_2 , delimiter=\",\")\r\n"
      ],
      "execution_count": 120,
      "outputs": []
    },
    {
      "cell_type": "markdown",
      "metadata": {
        "id": "GO4Vs23qgTC8"
      },
      "source": [
        "**Load weights from file:**"
      ]
    },
    {
      "cell_type": "code",
      "metadata": {
        "id": "QR7HBpEpQgMm"
      },
      "source": [
        "w1 = np.loadtxt(\"weights_1.txt\", delimiter=\",\")\r\n",
        "w2 = np.loadtxt(\"weights_2.txt\", delimiter=\",\").reshape((-1,1))"
      ],
      "execution_count": 121,
      "outputs": []
    },
    {
      "cell_type": "markdown",
      "metadata": {
        "id": "GDDaRrfIggKr"
      },
      "source": [
        "**Predict test data:**"
      ]
    },
    {
      "cell_type": "code",
      "metadata": {
        "colab": {
          "base_uri": "https://localhost:8080/"
        },
        "id": "Ytd7F7jJRgzQ",
        "outputId": "3c35ea1a-c52f-44a8-98ad-5d4f8919cfb5"
      },
      "source": [
        "output = prediction(test_x , w1 , w2)\r\n",
        "mse3 = model.mean_squared_error(output, test_y)\r\n",
        "mse3"
      ],
      "execution_count": 123,
      "outputs": [
        {
          "output_type": "stream",
          "text": [
            "/usr/local/lib/python3.6/dist-packages/ipykernel_launcher.py:21: RuntimeWarning: overflow encountered in exp\n"
          ],
          "name": "stderr"
        },
        {
          "output_type": "execute_result",
          "data": {
            "text/plain": [
              "0.28107991307033336"
            ]
          },
          "metadata": {
            "tags": []
          },
          "execution_count": 123
        }
      ]
    },
    {
      "cell_type": "code",
      "metadata": {
        "id": "bb3D7ggzbcZI"
      },
      "source": [
        ""
      ],
      "execution_count": null,
      "outputs": []
    }
  ]
}